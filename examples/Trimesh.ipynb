{
    "cells": [
        {
            "cell_type": "code",
            "execution_count": null,
            "metadata": {
                "scrolled": true
            },
            "outputs": [],
            "source": [
                "import datashader as ds\n",
                "import numpy as np\n",
                "import pandas as pd\n",
                "\n",
                "%matplotlib inline\n",
                "\n",
                "cvs = ds.Canvas()\n",
                "\n",
                "# 4\n",
                "# 3  qt      trs\n",
                "# 2       qtr      s   \n",
                "# 1    q\n",
                "# 0             rs\n",
                "#   0  1  2  3  4  5\n",
                "tris = np.array([\n",
                "    [(0, 3), (2, 2), (1, 1)],\n",
                "    [(2, 2), (3, 3), (4, 0)],\n",
                "    [(3, 3), (5, 1), (4, 0)],\n",
                "    [(0, 3), (3, 3), (2, 2)],\n",
                "    [(1, 1), (1.8, 1.8), (2.2, 1.8)],\n",
                "    [(1, 1), (2.2, 1.8), (4, 0)],\n",
                "    \n",
                "    # some smaller triangles\n",
                "    [(1.9, 1.9), (2, 2), (2.1, 1.9)],\n",
                "    [(1.8, 1.8), (1.9, 1.9), (2, 1.8)],\n",
                "    [(2, 1.8), (2.1, 1.9), (2.2, 1.8)],\n",
                "])\n",
                "df = pd.DataFrame({'x0': tris[:, 0, 0],\n",
                "                   'y0': tris[:, 0, 1],\n",
                "                   'x1': tris[:, 1, 0],\n",
                "                   'y1': tris[:, 1, 1],\n",
                "                   'x2': tris[:, 2, 0],\n",
                "                   'y2': tris[:, 2, 1],\n",
                "                  'val': np.random.randn(len(tris))},\n",
                "                 columns=['val', 'x0', 'y0', 'x1', 'y1', 'x2', 'y2']) # column ordering not necessary\n",
                "df"
            ]
        },
        {
            "cell_type": "code",
            "execution_count": null,
            "metadata": {},
            "outputs": [],
            "source": [
                "agg = cvs.triangles(df, ['x0', 'x1', 'x2'], ['y0', 'y1', 'y2'], agg=ds.sum('val'))"
            ]
        },
        {
            "cell_type": "code",
            "execution_count": null,
            "metadata": {},
            "outputs": [],
            "source": [
                "ds.transfer_functions.shade(agg)"
            ]
        },
        {
            "cell_type": "code",
            "execution_count": null,
            "metadata": {},
            "outputs": [],
            "source": []
        }
    ],
    "metadata": {
        "kernelspec": {
            "display_name": "Python 3",
            "language": "python",
            "name": "python3"
        },
        "language_info": {
            "codemirror_mode": {
                "name": "ipython",
                "version": 3
            },
            "file_extension": ".py",
            "mimetype": "text/x-python",
            "name": "python",
            "nbconvert_exporter": "python",
            "pygments_lexer": "ipython3",
            "version": "3.6.3"
        }
    },
    "nbformat": 4,
    "nbformat_minor": 2
}